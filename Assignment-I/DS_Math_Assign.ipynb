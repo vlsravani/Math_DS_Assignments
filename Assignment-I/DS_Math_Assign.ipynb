{
 "cells": [
  {
   "cell_type": "markdown",
   "id": "63c3f686",
   "metadata": {},
   "source": [
    "# Math Foundations for Data Science\n",
    "\n",
    "### Assignment - I"
   ]
  },
  {
   "cell_type": "code",
   "execution_count": 1,
   "id": "2f290a70",
   "metadata": {},
   "outputs": [],
   "source": [
    "# importing useful libraries to perform the required operations\n",
    "\n",
    "import numpy as np\n",
    "import pandas as pd\n",
    "import scipy.linalg as la    #library for linear algebra computation\n",
    "from sympy import *          #library for symbolic mathematics"
   ]
  },
  {
   "cell_type": "markdown",
   "id": "d324862a",
   "metadata": {},
   "source": [
    "### a. Read a matrix A from a csv file and a vector b from another csv file"
   ]
  },
  {
   "cell_type": "code",
   "execution_count": 2,
   "id": "bed93714",
   "metadata": {},
   "outputs": [
    {
     "name": "stdout",
     "output_type": "stream",
     "text": [
      "Matrix A : \n",
      "   -1  2  -3\n",
      "0   2 -3   4\n",
      "1   1 -2  -3\n",
      "2  -2  3   4\n",
      "\n",
      "Vector b : \n",
      "   4\n",
      "0 -5\n",
      "1 -4\n",
      "2  5\n"
     ]
    }
   ],
   "source": [
    "A=pd.read_csv(\"C:\\\\Users\\\\vlakshmisravani\\\\Desktop\\\\A.csv\")\n",
    "b=pd.read_csv(\"C:\\\\Users\\\\vlakshmisravani\\\\Desktop\\\\b.csv\")\n",
    "\n",
    "print(\"Matrix A : \")\n",
    "print(A)\n",
    "print()\n",
    "print(\"Vector b : \")\n",
    "print(b)"
   ]
  },
  {
   "cell_type": "markdown",
   "id": "996ece01",
   "metadata": {},
   "source": [
    "### b. Perform LU decomposition for square matrix"
   ]
  },
  {
   "cell_type": "code",
   "execution_count": 3,
   "id": "cadc5641",
   "metadata": {},
   "outputs": [
    {
     "name": "stdout",
     "output_type": "stream",
     "text": [
      "The L matrix is:\n",
      "[[ 1.   0.   0. ]\n",
      " [ 0.5  1.   0. ]\n",
      " [-1.  -0.   1. ]]\n",
      "\n",
      "The U matrix is:\n",
      "[[ 2.  -3.   4. ]\n",
      " [ 0.  -0.5 -5. ]\n",
      " [ 0.   0.   8. ]]\n"
     ]
    }
   ],
   "source": [
    "# Decomposing matrix A into Upper and Lower triangular matrix\n",
    "\n",
    "P, L, U = la.lu(A)   # the function scipy.linalg.lu performs the PLU decomposition\n",
    "\n",
    "print('The L matrix is:')\n",
    "print(L)\n",
    "\n",
    "print('\\nThe U matrix is:')\n",
    "print(U)"
   ]
  },
  {
   "cell_type": "code",
   "execution_count": 4,
   "id": "a72cda06",
   "metadata": {},
   "outputs": [
    {
     "name": "stdout",
     "output_type": "stream",
     "text": [
      "[[ 2. -3.  4.]\n",
      " [ 1. -2. -3.]\n",
      " [-2.  3.  4.]]\n",
      "\n",
      "[[ 2. -3.  4.]\n",
      " [ 1. -2. -3.]\n",
      " [-2.  3.  4.]]\n",
      "\n",
      "A: [[ 2. -3.  4.]\n",
      " [ 1. -2. -3.]\n",
      " [-2.  3.  4.]]\n"
     ]
    }
   ],
   "source": [
    "print(np.dot(P.T, A))\n",
    "print()\n",
    "print(np.dot(L, U))    # P is an identity matrix and PA = LU\n",
    "\n",
    "a = P.dot((L.dot(U)))  #checking if A = PLU\n",
    "print(\"\\nA:\", a)"
   ]
  },
  {
   "cell_type": "markdown",
   "id": "faa111ca",
   "metadata": {},
   "source": [
    "### c. Solve the equation Ax=b and check whether there are 0,1 or infinitely many solutions"
   ]
  },
  {
   "cell_type": "code",
   "execution_count": 5,
   "id": "34467854",
   "metadata": {},
   "outputs": [
    {
     "name": "stdout",
     "output_type": "stream",
     "text": [
      "The system has a unique solution\n"
     ]
    }
   ],
   "source": [
    "A=np.array(A)\n",
    "b=np.array(b).T\n",
    "\n",
    "rank_A=np.linalg.matrix_rank(A)\n",
    "\n",
    "aug_A= np.concatenate((A,b)) \n",
    "rank_aug_A=np.linalg.matrix_rank(aug_A)\n",
    "\n",
    "#  Checking whether there are 0,1 or infinitely many solutions\n",
    "\n",
    "if (rank_A==rank_aug_A) and (rank_aug_A==np.shape(A)[0]):\n",
    "    print(\"The system has a unique solution\")\n",
    "    \n",
    "elif (rank_A==rank_aug_A) and (rank_aug_A<np.shape(A)[0]):\n",
    "    print(\"The system has infinitely many solutions\")\n",
    "    \n",
    "if(rank_A<rank_aug_A):\n",
    "    print(\"The system has no solutions\")"
   ]
  },
  {
   "cell_type": "code",
   "execution_count": 6,
   "id": "2654fd7f",
   "metadata": {},
   "outputs": [
    {
     "name": "stdout",
     "output_type": "stream",
     "text": [
      "X: [[2.]\n",
      " [3.]\n",
      " [0.]]\n"
     ]
    }
   ],
   "source": [
    "A=np.array(A)\n",
    "b=np.array(b).T\n",
    "\n",
    "# Solving the equation Ax=b using NumPy's np.lingalg.solve \n",
    "\n",
    "x = np.linalg.solve(A,b)\n",
    "print(\"X:\",x)"
   ]
  },
  {
   "cell_type": "markdown",
   "id": "44c75adb",
   "metadata": {},
   "source": [
    "### d.  Do the diagonalization of a matrix"
   ]
  },
  {
   "cell_type": "code",
   "execution_count": 7,
   "id": "c85eee42",
   "metadata": {},
   "outputs": [
    {
     "name": "stdout",
     "output_type": "stream",
     "text": [
      "Matrix : Matrix([[1, -3, 3], [3, -5, 3], [6, -6, 4]]) \n",
      "Diagonal of a matrix : Matrix([[-2, 0, 0], [0, -2, 0], [0, 0, 4]])\n"
     ]
    }
   ],
   "source": [
    "M = Matrix([[1, -3, 3], [3, -5, 3], [6, -6, 4]]) \n",
    "print(\"Matrix : {} \".format(M))\n",
    "   \n",
    "# Use sympy.diagonalize() method \n",
    "P, D = M.diagonalize()  \n",
    "      \n",
    "print(\"Diagonal of a matrix : {}\".format(D))"
   ]
  },
  {
   "cell_type": "markdown",
   "id": "907dc70a",
   "metadata": {},
   "source": [
    "### e.  Give exponential, sine and sigmoid functions on A"
   ]
  },
  {
   "cell_type": "code",
   "execution_count": 8,
   "id": "341100bf",
   "metadata": {},
   "outputs": [
    {
     "name": "stdout",
     "output_type": "stream",
     "text": [
      "Sigmoid function on A:\n",
      "[[0.88079708 0.04742587 0.98201379]\n",
      " [0.73105858 0.11920292 0.04742587]\n",
      " [0.11920292 0.95257413 0.98201379]]\n",
      "\n",
      "Exponential function on A:\n",
      "[[7.38905610e+00 4.97870684e-02 5.45981500e+01]\n",
      " [2.71828183e+00 1.35335283e-01 4.97870684e-02]\n",
      " [1.35335283e-01 2.00855369e+01 5.45981500e+01]]\n",
      "\n",
      "Sine function on A:\n",
      "[[ 0.90929743 -0.14112001 -0.7568025 ]\n",
      " [ 0.84147098 -0.90929743 -0.14112001]\n",
      " [-0.90929743  0.14112001 -0.7568025 ]]\n"
     ]
    }
   ],
   "source": [
    "def sigmoid(x):\n",
    "    return(1/(1 + np.exp(-x)))\n",
    "def exponenstial(x):\n",
    "    return np.exp(x)\n",
    "def sinfun(x):\n",
    "    return np.sin(x)\n",
    "\n",
    "sig=[sigmoid(i) for i in A]\n",
    "expo=[exponenstial(i) for i in A]\n",
    "sinf=[sinfun(i) for i in A]\n",
    "\n",
    "print(\"Sigmoid function on A:\")\n",
    "print(np.array(sig))\n",
    "\n",
    "print(\"\\nExponential function on A:\")\n",
    "print(np.array(expo))\n",
    "\n",
    "print(\"\\nSine function on A:\")\n",
    "print(np.array(sinf))"
   ]
  },
  {
   "cell_type": "markdown",
   "id": "b2881412",
   "metadata": {},
   "source": [
    "### f. Find all the eigenpairs of A"
   ]
  },
  {
   "cell_type": "code",
   "execution_count": 9,
   "id": "d5582b3a",
   "metadata": {},
   "outputs": [
    {
     "name": "stdout",
     "output_type": "stream",
     "text": [
      "Eigen Values are\n",
      " [ 2.22249451+3.61088486j  2.22249451-3.61088486j -0.44498903+0.j        ]\n",
      "\n",
      "Eigen Vactors are\n",
      " [[ 0.80754072+0.j          0.80754072-0.j          0.80130537+0.j        ]\n",
      " [-0.06448432-0.3019094j  -0.06448432+0.3019094j   0.59676372+0.j        ]\n",
      " [-0.0034449 +0.50255209j -0.0034449 -0.50255209j -0.04222292+0.j        ]]\n"
     ]
    }
   ],
   "source": [
    "#calculate eigenvalues and their corresponding eigenvectors\n",
    "\n",
    "u,V = la.eig(A)\n",
    "\n",
    "print(\"Eigen Values are\\n\", u)\n",
    "print(\"\\nEigen Vactors are\\n\", V)"
   ]
  }
 ],
 "metadata": {
  "kernelspec": {
   "display_name": "Python 3 (ipykernel)",
   "language": "python",
   "name": "python3"
  },
  "language_info": {
   "codemirror_mode": {
    "name": "ipython",
    "version": 3
   },
   "file_extension": ".py",
   "mimetype": "text/x-python",
   "name": "python",
   "nbconvert_exporter": "python",
   "pygments_lexer": "ipython3",
   "version": "3.11.1"
  }
 },
 "nbformat": 4,
 "nbformat_minor": 5
}
